{
 "cells": [
  {
   "cell_type": "code",
   "execution_count": 98,
   "metadata": {},
   "outputs": [],
   "source": [
    "import gradio as gr\n",
    "import os\n",
    "import openai\n",
    "\n",
    "openai.api_key = os.getenv(\"OPENAI_API_KEY\")"
   ]
  },
  {
   "cell_type": "code",
   "execution_count": 99,
   "metadata": {},
   "outputs": [
    {
     "name": "stdout",
     "output_type": "stream",
     "text": [
      "[31373, 995]\n"
     ]
    }
   ],
   "source": [
    "import tiktoken\n",
    "\n",
    "enc = tiktoken.get_encoding(\"gpt2\")\n",
    "assert enc.decode(enc.encode(\"hello world\")) == \"hello world\"\n",
    "\n",
    "# To get the tokeniser corresponding to a specific model in the OpenAI API:\n",
    "print(enc.encode(\"hello world\"))"
   ]
  },
  {
   "cell_type": "code",
   "execution_count": 100,
   "metadata": {},
   "outputs": [
    {
     "name": "stdout",
     "output_type": "stream",
     "text": [
      "Act like you are an AI. Answer short, just one sentence if possible.\n"
     ]
    }
   ],
   "source": [
    "pre_prompt = \"Act like you are an AI. Answer short, just one sentence if possible.\"\n",
    "\n",
    "print(pre_prompt)\n",
    "\n",
    "messages=[\n",
    "          {\"role\": \"system\", \"content\": pre_prompt},\n",
    "      ]\n",
    "\n",
    "history_tokens = enc.encode(pre_prompt)"
   ]
  },
  {
   "cell_type": "code",
   "execution_count": 101,
   "metadata": {},
   "outputs": [],
   "source": [
    "def chat_response(messages):\n",
    "    response = openai.ChatCompletion.create(\n",
    "        model=\"gpt-3.5-turbo\", max_tokens=100, temperature=0.8, messages=messages\n",
    "    )\n",
    "    content = response[\"choices\"][0][\"message\"][\"content\"]\n",
    "    return content\n",
    "\n",
    "\n",
    "def construct_messages_list(prompt, messages=[]):\n",
    "\n",
    "    print(\"You: \", prompt)\n",
    "\n",
    "    messages.append({\"role\": \"user\", \"content\": prompt})\n",
    "    history_tokens.extend(enc.encode(prompt))\n",
    "\n",
    "    response = chat_response(messages)\n",
    "    print(\"Bot: \", response)\n",
    "\n",
    "    messages.append({\"role\": \"assistant\", \"content\": response})\n",
    "    history_tokens.extend(enc.encode(response))\n",
    "\n",
    "    #print(messages)\n",
    "    #print(history_tokens)\n",
    "\n",
    "    return messages, history_tokens\n"
   ]
  },
  {
   "cell_type": "code",
   "execution_count": 102,
   "metadata": {},
   "outputs": [
    {
     "name": "stdout",
     "output_type": "stream",
     "text": [
      "You:  hello\n",
      "Bot:  Hello! How can I assist you today?\n",
      "You:  code\n",
      "Bot:  What programming language do you want to use for coding?\n",
      "You:  uuuh\n",
      "Bot:  Do you need help with something specific related to coding?\n",
      "You:  python\n",
      "Bot:  Python is a high-level, interpreted programming language used for web development, data analysis, artificial intelligence, and many other purposes.\n",
      "You:  CATS\n",
      "Bot:  Cats are feline animals known for their agility, curiosity, and companionship with humans.\n",
      "You:  YYYEEE\n",
      "Bot:  I'm sorry, I don't understand what you mean. Could you please provide more context or information?\n",
      "You:  col\n",
      "Bot:  \"col\" is a shorthand for \"column\" and is commonly used in programming and data analysis to refer to individual columns of data within a dataset or spreadsheet.\n",
      "You:  exit\n",
      "Bot:  Goodbye, have a nice day!\n"
     ]
    }
   ],
   "source": [
    "def in_editor_chat(messages):\n",
    "    prompt = \"\"\n",
    "    while prompt != \"exit\":\n",
    "        prompt = input(\"Chat: \")\n",
    "        construct_messages_list(prompt, messages)\n",
    "\n",
    "in_editor_chat(messages)"
   ]
  },
  {
   "cell_type": "code",
   "execution_count": 103,
   "metadata": {},
   "outputs": [
    {
     "name": "stdout",
     "output_type": "stream",
     "text": [
      "Running on local URL:  http://127.0.0.1:7875\n",
      "\n",
      "To create a public link, set `share=True` in `launch()`.\n"
     ]
    },
    {
     "data": {
      "text/html": [
       "<div><iframe src=\"http://127.0.0.1:7875/\" width=\"100%\" height=\"500\" allow=\"autoplay; camera; microphone; clipboard-read; clipboard-write;\" frameborder=\"0\" allowfullscreen></iframe></div>"
      ],
      "text/plain": [
       "<IPython.core.display.HTML object>"
      ]
     },
     "metadata": {},
     "output_type": "display_data"
    },
    {
     "data": {
      "text/plain": []
     },
     "execution_count": 103,
     "metadata": {},
     "output_type": "execute_result"
    }
   ],
   "source": [
    "with gr.Blocks() as demo:\n",
    "    chatbot = gr.Chatbot()\n",
    "    state = gr.State([])\n",
    "\n",
    "    with gr.Row():\n",
    "        txt = gr.Textbox(\n",
    "            show_label=False, placeholder=\"Enter text and press enter\"\n",
    "        ).style(container=False)\n",
    "\n",
    "    txt.submit(construct_messages_list, [txt, state], [chatbot, state])\n",
    "\n",
    "demo.launch()\n"
   ]
  },
  {
   "cell_type": "code",
   "execution_count": null,
   "metadata": {},
   "outputs": [],
   "source": []
  }
 ],
 "metadata": {
  "kernelspec": {
   "display_name": "Python 3",
   "language": "python",
   "name": "python3"
  },
  "language_info": {
   "codemirror_mode": {
    "name": "ipython",
    "version": 3
   },
   "file_extension": ".py",
   "mimetype": "text/x-python",
   "name": "python",
   "nbconvert_exporter": "python",
   "pygments_lexer": "ipython3",
   "version": "3.11.2"
  },
  "orig_nbformat": 4,
  "vscode": {
   "interpreter": {
    "hash": "5238573367df39f7286bb46f9ff5f08f63a01a80960060ce41e3c79b190280fa"
   }
  }
 },
 "nbformat": 4,
 "nbformat_minor": 2
}
